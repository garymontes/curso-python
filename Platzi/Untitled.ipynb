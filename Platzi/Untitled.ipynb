{
 "cells": [
  {
   "cell_type": "code",
   "execution_count": 6,
   "id": "2221975d-7404-4d65-8e9c-600874926097",
   "metadata": {},
   "outputs": [],
   "source": [
    "import numpy as np\n",
    "import matplotlib.pyplot as plt\n",
    "import pandas as pd\n",
    "import seaborn as sns\n",
    "import statsmodels as sm"
   ]
  },
  {
   "cell_type": "code",
   "execution_count": 9,
   "id": "91567d7c-9451-4432-bc2c-8091722c0058",
   "metadata": {},
   "outputs": [],
   "source": [
    "data=[np.random.standard_normal() for i in range(7)]"
   ]
  },
  {
   "cell_type": "code",
   "execution_count": 10,
   "id": "67c73726-bd8a-47e6-bee5-4457af910a29",
   "metadata": {},
   "outputs": [
    {
     "data": {
      "text/plain": [
       "[-0.07491421326753894,\n",
       " 1.3189502556611055,\n",
       " -0.6128666381616308,\n",
       " -0.4346702039880843,\n",
       " -1.1124081329202675,\n",
       " -0.42747318526053646,\n",
       " 0.7498103577410398]"
      ]
     },
     "execution_count": 10,
     "metadata": {},
     "output_type": "execute_result"
    }
   ],
   "source": [
    "data"
   ]
  },
  {
   "cell_type": "raw",
   "id": "e8067953-415c-44b5-bbcc-d55f3198829f",
   "metadata": {},
   "source": [
    "print(data)"
   ]
  },
  {
   "cell_type": "code",
   "execution_count": 11,
   "id": "b2166426-ada0-4c06-8866-2b5558d9a431",
   "metadata": {},
   "outputs": [
    {
     "data": {
      "text/plain": [
       "[-0.07491421326753894,\n",
       " 1.3189502556611055,\n",
       " -0.6128666381616308,\n",
       " -0.4346702039880843,\n",
       " -1.1124081329202675,\n",
       " -0.42747318526053646,\n",
       " 0.7498103577410398]"
      ]
     },
     "execution_count": 11,
     "metadata": {},
     "output_type": "execute_result"
    }
   ],
   "source": [
    "data"
   ]
  },
  {
   "cell_type": "code",
   "execution_count": 14,
   "id": "92b2531c-e683-4447-81f4-60c5f16368b6",
   "metadata": {},
   "outputs": [],
   "source": [
    "b=[1,2,3,4]"
   ]
  },
  {
   "cell_type": "code",
   "execution_count": 15,
   "id": "d6a0c0b1-1c83-4f45-801c-c791fd608777",
   "metadata": {},
   "outputs": [
    {
     "data": {
      "text/plain": [
       "\u001b[1;31mType:\u001b[0m        list\n",
       "\u001b[1;31mString form:\u001b[0m [1, 2, 3, 4]\n",
       "\u001b[1;31mLength:\u001b[0m      4\n",
       "\u001b[1;31mDocstring:\u001b[0m  \n",
       "Built-in mutable sequence.\n",
       "\n",
       "If no argument is given, the constructor creates a new empty list.\n",
       "The argument must be an iterable if specified."
      ]
     },
     "metadata": {},
     "output_type": "display_data"
    }
   ],
   "source": [
    "b?"
   ]
  }
 ],
 "metadata": {
  "kernelspec": {
   "display_name": "Python 3 (ipykernel)",
   "language": "python",
   "name": "python3"
  },
  "language_info": {
   "codemirror_mode": {
    "name": "ipython",
    "version": 3
   },
   "file_extension": ".py",
   "mimetype": "text/x-python",
   "name": "python",
   "nbconvert_exporter": "python",
   "pygments_lexer": "ipython3",
   "version": "3.12.7"
  }
 },
 "nbformat": 4,
 "nbformat_minor": 5
}
