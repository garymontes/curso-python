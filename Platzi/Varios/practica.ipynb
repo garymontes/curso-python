{
 "cells": [
  {
   "cell_type": "code",
   "execution_count": 2,
   "id": "fcf5daf7",
   "metadata": {},
   "outputs": [],
   "source": [
    "import numpy as np"
   ]
  },
  {
   "cell_type": "code",
   "execution_count": 3,
   "id": "2eb291d1",
   "metadata": {},
   "outputs": [
    {
     "name": "stdout",
     "output_type": "stream",
     "text": [
      "[1 2 3]\n"
     ]
    }
   ],
   "source": [
    "a1=np.array([1,2,3])\n",
    "print(a1)"
   ]
  },
  {
   "cell_type": "code",
   "execution_count": 4,
   "id": "a634a813",
   "metadata": {},
   "outputs": [
    {
     "name": "stdout",
     "output_type": "stream",
     "text": [
      "[0 1 2 3 4 5 6 7 8 9]\n"
     ]
    }
   ],
   "source": [
    "a2=np.array([0,1,2,3,4,5,6,7,8,9])\n",
    "print(a2)"
   ]
  },
  {
   "cell_type": "code",
   "execution_count": 5,
   "id": "6f493344",
   "metadata": {},
   "outputs": [
    {
     "name": "stdout",
     "output_type": "stream",
     "text": [
      "[[0 1 2]\n",
      " [3 4 5]]\n"
     ]
    }
   ],
   "source": [
    "a3=np.array([[0,1,2],[3,4,5]])\n",
    "print(a3)"
   ]
  },
  {
   "cell_type": "code",
   "execution_count": 6,
   "id": "43bd1d07",
   "metadata": {},
   "outputs": [
    {
     "name": "stdout",
     "output_type": "stream",
     "text": [
      "[[0 1 2]\n",
      " [3 4 5]\n",
      " [6 7 8]]\n"
     ]
    }
   ],
   "source": [
    "a4=np.array([[0,1,2],[3,4,5],[6,7,8]])\n",
    "print(a4)"
   ]
  },
  {
   "cell_type": "code",
   "execution_count": 7,
   "id": "cf14975c",
   "metadata": {},
   "outputs": [
    {
     "data": {
      "text/plain": [
       "array([ 9, 12, 15])"
      ]
     },
     "execution_count": 7,
     "metadata": {},
     "output_type": "execute_result"
    }
   ],
   "source": [
    "np.sum(a4, axis=0)"
   ]
  },
  {
   "cell_type": "code",
   "execution_count": 8,
   "id": "bf11ae6f",
   "metadata": {},
   "outputs": [
    {
     "data": {
      "text/plain": [
       "array([ 3, 12, 21])"
      ]
     },
     "execution_count": 8,
     "metadata": {},
     "output_type": "execute_result"
    }
   ],
   "source": [
    "np.sum(a4,axis=1)"
   ]
  },
  {
   "cell_type": "markdown",
   "id": "a2e59874",
   "metadata": {},
   "source": [
    "# Creación de arreglo vacio 2x2"
   ]
  },
  {
   "cell_type": "code",
   "execution_count": 10,
   "id": "c1e7e947",
   "metadata": {},
   "outputs": [
    {
     "name": "stdout",
     "output_type": "stream",
     "text": [
      "[[10 20]\n",
      " [30 40]]\n"
     ]
    }
   ],
   "source": [
    "a5=np.empty([2,2],dtype=int)\n",
    "a5[0,0]=10\n",
    "a5[0,1]=20\n",
    "a5[1,0]=30\n",
    "a5[1,1]=40\n",
    "print(a5)"
   ]
  },
  {
   "cell_type": "code",
   "execution_count": 11,
   "id": "74cca6b4",
   "metadata": {},
   "outputs": [
    {
     "name": "stdout",
     "output_type": "stream",
     "text": [
      "[[0. 0.]\n",
      " [0. 0.]]\n"
     ]
    }
   ],
   "source": [
    "a6=np.zeros([2,2])\n",
    "print(a6)"
   ]
  },
  {
   "cell_type": "code",
   "execution_count": 12,
   "id": "02e6dd36",
   "metadata": {},
   "outputs": [
    {
     "name": "stdout",
     "output_type": "stream",
     "text": [
      "[[1. 1.]\n",
      " [1. 1.]]\n"
     ]
    }
   ],
   "source": [
    "a7=np.ones([2,2])\n",
    "print(a7)"
   ]
  },
  {
   "cell_type": "code",
   "execution_count": 13,
   "id": "104301f7",
   "metadata": {},
   "outputs": [
    {
     "name": "stdout",
     "output_type": "stream",
     "text": [
      "[[5 5]\n",
      " [5 5]]\n"
     ]
    }
   ],
   "source": [
    "a8=np.full([2,2],5)\n",
    "print(a8)"
   ]
  },
  {
   "cell_type": "code",
   "execution_count": 14,
   "id": "18ab5462",
   "metadata": {},
   "outputs": [
    {
     "name": "stdout",
     "output_type": "stream",
     "text": [
      "[[0 1 2]\n",
      " [3 4 5]]\n",
      "Las dimensiones de la matriz es:(3, 3)\n"
     ]
    }
   ],
   "source": [
    "print(a3)\n",
    "print(f'Las dimensiones de la matriz es:{a4.shape}')"
   ]
  },
  {
   "cell_type": "code",
   "execution_count": 15,
   "id": "215075ae",
   "metadata": {},
   "outputs": [
    {
     "name": "stdout",
     "output_type": "stream",
     "text": [
      "La lista es: [0 1 2 3 4 5 6 7 8 9]\n",
      "El número máximo es: 9\n",
      "La posición del número máximo es: 9\n",
      "El número minimo es: 0\n",
      "La posisción del número minimo es: 0\n"
     ]
    }
   ],
   "source": [
    "print(f'La lista es: {a2}')\n",
    "print(f'El número máximo es: {a2.max()}')\n",
    "print(f'La posición del número máximo es: {a2.argmax()}')\n",
    "print(f'El número minimo es: {a2.min()}')\n",
    "print(f'La posisción del número minimo es: {a2.argmin()}')"
   ]
  },
  {
   "cell_type": "code",
   "execution_count": 16,
   "id": "b4149e6e",
   "metadata": {},
   "outputs": [
    {
     "name": "stdout",
     "output_type": "stream",
     "text": [
      "La suma de la lista es: 45\n",
      "La media de la lista es: 4.5\n"
     ]
    }
   ],
   "source": [
    "print(f'La suma de la lista es: {a2.sum()}')\n",
    "print(f'La media de la lista es: {a2.mean()}')"
   ]
  },
  {
   "cell_type": "code",
   "execution_count": 17,
   "id": "063660e7",
   "metadata": {},
   "outputs": [
    {
     "name": "stdout",
     "output_type": "stream",
     "text": [
      "[10 -2  5 -1 20]\n",
      "[10  0  5  0 20]\n"
     ]
    }
   ],
   "source": [
    "a9=np.array([10,-2,5,-1,20])\n",
    "print(a9)\n",
    "condicion=a9<0\n",
    "a10=np.where(condicion,0,a9)\n",
    "print(a10)"
   ]
  },
  {
   "cell_type": "code",
   "execution_count": 18,
   "id": "7d9896e7",
   "metadata": {},
   "outputs": [
    {
     "name": "stdout",
     "output_type": "stream",
     "text": [
      "[[1 2 3]\n",
      " [4 5 6]]\n"
     ]
    }
   ],
   "source": [
    "a11=np.array([[1,2,3],[4,5,6]])\n",
    "print(a11)"
   ]
  },
  {
   "cell_type": "code",
   "execution_count": 19,
   "id": "eadf54a5",
   "metadata": {},
   "outputs": [
    {
     "name": "stdout",
     "output_type": "stream",
     "text": [
      "[[1 2]\n",
      " [4 5]]\n"
     ]
    }
   ],
   "source": [
    "print(a11[:,0:2])"
   ]
  },
  {
   "cell_type": "code",
   "execution_count": 20,
   "id": "4cef3ce5",
   "metadata": {},
   "outputs": [
    {
     "name": "stdout",
     "output_type": "stream",
     "text": [
      "5\n",
      "5\n",
      "6\n"
     ]
    }
   ],
   "source": [
    "print(a11[1,1])\n",
    "print(a11[1][1])\n",
    "print(a11[1,2])"
   ]
  },
  {
   "cell_type": "code",
   "execution_count": 21,
   "id": "0efef2ad",
   "metadata": {},
   "outputs": [
    {
     "name": "stdout",
     "output_type": "stream",
     "text": [
      "La temperatura es: [22 24 23 25 26 20]\n",
      "La temperatura máxima es: 26\n",
      "La temperatura minima es: 20\n",
      "La temperatura media es: 23.333333333333332\n"
     ]
    }
   ],
   "source": [
    "a12=np.array([22,24,23,25,26,20])\n",
    "print(f'La temperatura es: {a12}')\n",
    "print(f'La temperatura máxima es: {a12.max()}')\n",
    "print(f'La temperatura minima es: {a12.min()}')\n",
    "print(f'La temperatura media es: {a12.mean()}')"
   ]
  },
  {
   "cell_type": "code",
   "execution_count": null,
   "id": "02523d50",
   "metadata": {},
   "outputs": [],
   "source": []
  }
 ],
 "metadata": {
  "kernelspec": {
   "display_name": "Python 3 (ipykernel)",
   "language": "python",
   "name": "python3"
  },
  "language_info": {
   "codemirror_mode": {
    "name": "ipython",
    "version": 3
   },
   "file_extension": ".py",
   "mimetype": "text/x-python",
   "name": "python",
   "nbconvert_exporter": "python",
   "pygments_lexer": "ipython3",
   "version": "3.12.7"
  }
 },
 "nbformat": 4,
 "nbformat_minor": 5
}
