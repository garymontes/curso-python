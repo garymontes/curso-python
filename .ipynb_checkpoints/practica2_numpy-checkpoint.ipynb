{
 "cells": [
  {
   "cell_type": "code",
   "execution_count": 1,
   "id": "168c77df-7dd0-480a-bf55-0bdceb3275bf",
   "metadata": {},
   "outputs": [
    {
     "name": "stdout",
     "output_type": "stream",
     "text": [
      "[1 2 3 4 5]\n"
     ]
    }
   ],
   "source": [
    "import numpy as np\n",
    "vector=np.array([1,2,3,4,5])\n",
    "print(vector)"
   ]
  },
  {
   "cell_type": "code",
   "execution_count": 3,
   "id": "8c50a980-0bc6-41db-b094-1dec2a5bdf22",
   "metadata": {},
   "outputs": [
    {
     "name": "stdout",
     "output_type": "stream",
     "text": [
      "La media es: 3.0\n",
      "La desviacion estandar es: 1.4142135623730951\n"
     ]
    }
   ],
   "source": [
    "# Calcular media y desviacion estandar\n",
    "print('La media es:',vector.mean())\n",
    "print('La desviacion estandar es:', vector.std())"
   ]
  },
  {
   "cell_type": "code",
   "execution_count": 11,
   "id": "44df5533-1758-4239-a445-b4be225a1473",
   "metadata": {},
   "outputs": [
    {
     "name": "stdout",
     "output_type": "stream",
     "text": [
      "La matriz es: [[ 9  3]\n",
      " [10 10]\n",
      " [ 8  5]]\n"
     ]
    }
   ],
   "source": [
    "# Crear matriz con numeros al azar del 1 al 10\n",
    "matriz=np.random.randint(1,11,size=(3,2))\n",
    "print('La matriz es:', matriz)"
   ]
  },
  {
   "cell_type": "code",
   "execution_count": null,
   "id": "73df8d25-4db6-452c-b896-8bbe4415c13a",
   "metadata": {},
   "outputs": [],
   "source": []
  },
  {
   "cell_type": "code",
   "execution_count": null,
   "id": "a3d00af9-e339-4efe-be13-23a373ffac9d",
   "metadata": {},
   "outputs": [],
   "source": []
  },
  {
   "cell_type": "code",
   "execution_count": null,
   "id": "f4d2e20d-25da-45f2-a1d3-a2d334919740",
   "metadata": {},
   "outputs": [],
   "source": []
  }
 ],
 "metadata": {
  "kernelspec": {
   "display_name": "Python 3 (ipykernel)",
   "language": "python",
   "name": "python3"
  },
  "language_info": {
   "codemirror_mode": {
    "name": "ipython",
    "version": 3
   },
   "file_extension": ".py",
   "mimetype": "text/x-python",
   "name": "python",
   "nbconvert_exporter": "python",
   "pygments_lexer": "ipython3",
   "version": "3.12.7"
  }
 },
 "nbformat": 4,
 "nbformat_minor": 5
}
