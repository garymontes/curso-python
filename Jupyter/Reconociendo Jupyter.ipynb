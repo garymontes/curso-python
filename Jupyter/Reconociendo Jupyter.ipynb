{
 "cells": [
  {
   "cell_type": "markdown",
   "id": "fa6577d1-41b6-48e1-b471-ba3ece689683",
   "metadata": {},
   "source": [
    "# Mi primer Jupyter Notebook\n",
    "## Caracteristicas\n",
    "\n",
    "Este es el primer notebook creado en Jupyter utilizando la terminal de WSL2\n",
    "\n",
    "*Cartagena de indias*\n",
    "\n",
    "**Cartagena de indias**\n",
    "\n",
    "* Gary Jose\n",
    "  "
   ]
  },
  {
   "cell_type": "code",
   "execution_count": 2,
   "id": "ad5c1673-955e-4777-a78a-af4db2fa9938",
   "metadata": {},
   "outputs": [
    {
     "name": "stdout",
     "output_type": "stream",
     "text": [
      "Refinería Cartagena, Km 10 vía Mamonal\n"
     ]
    }
   ],
   "source": [
    "# Primera línea de código en python\n",
    "print('Refinería Cartagena, Km 10 vía Mamonal')"
   ]
  },
  {
   "cell_type": "code",
   "execution_count": 3,
   "id": "81eb29c5-1f67-4a1e-aed6-9c28c0e7fd25",
   "metadata": {},
   "outputs": [
    {
     "name": "stdout",
     "output_type": "stream",
     "text": [
      "Barrio Santa Clara\n"
     ]
    }
   ],
   "source": [
    "# Segunda línea de código en python\n",
    "print('Barrio Santa Clara')"
   ]
  },
  {
   "cell_type": "code",
   "execution_count": null,
   "id": "ba29bb67-1f31-48cb-9d3e-c8e49b706404",
   "metadata": {},
   "outputs": [],
   "source": []
  }
 ],
 "metadata": {
  "kernelspec": {
   "display_name": "Python 3 (ipykernel)",
   "language": "python",
   "name": "python3"
  },
  "language_info": {
   "codemirror_mode": {
    "name": "ipython",
    "version": 3
   },
   "file_extension": ".py",
   "mimetype": "text/x-python",
   "name": "python",
   "nbconvert_exporter": "python",
   "pygments_lexer": "ipython3",
   "version": "3.12.4"
  }
 },
 "nbformat": 4,
 "nbformat_minor": 5
}
