{
 "cells": [
  {
   "cell_type": "markdown",
   "id": "e3c77bfb-aa31-4c4e-a3e2-7744c07f8f63",
   "metadata": {},
   "source": [
    "# Funciones de orden superior "
   ]
  },
  {
   "cell_type": "code",
   "execution_count": 8,
   "id": "7db2e5ab-272f-4a4a-906f-d31040b5543e",
   "metadata": {},
   "outputs": [],
   "source": [
    "def operacion(x,func):\n",
    "    return func(x)"
   ]
  },
  {
   "cell_type": "markdown",
   "id": "39d1fbc6-2623-4cc6-bd03-32e638e778a1",
   "metadata": {},
   "source": [
    "# Raiz cuadrada"
   ]
  },
  {
   "cell_type": "code",
   "execution_count": 3,
   "id": "dbbed351-37ae-4cd2-ba19-df4301c8f608",
   "metadata": {},
   "outputs": [],
   "source": [
    "def raiz(x):\n",
    "    return x**0.5"
   ]
  },
  {
   "cell_type": "markdown",
   "id": "dccc2b4c-633f-46ec-b821-12a8868ad65a",
   "metadata": {},
   "source": [
    "# Cuadratica"
   ]
  },
  {
   "cell_type": "code",
   "execution_count": 4,
   "id": "c3843da8-a27e-4bee-9160-18d3b744a7ff",
   "metadata": {},
   "outputs": [],
   "source": [
    "def cua(x):\n",
    "    return x**2"
   ]
  },
  {
   "cell_type": "markdown",
   "id": "f2b1b2a4-a526-42c2-906f-33f7c12515a8",
   "metadata": {},
   "source": [
    "# Raiz cúbica"
   ]
  },
  {
   "cell_type": "code",
   "execution_count": 5,
   "id": "cdbee867-b223-4baa-ba4d-d426ef05ad64",
   "metadata": {},
   "outputs": [],
   "source": [
    "def cub(x):\n",
    "    return x**0.33"
   ]
  },
  {
   "cell_type": "markdown",
   "id": "1a065a8c-0e9b-47e9-84f4-a837baa7c508",
   "metadata": {},
   "source": [
    "# Cubo"
   ]
  },
  {
   "cell_type": "code",
   "execution_count": 6,
   "id": "72831f88-7c71-4bab-b475-5ec9009b322f",
   "metadata": {},
   "outputs": [],
   "source": [
    "def ecubo(x):\n",
    "    return x**3"
   ]
  },
  {
   "cell_type": "markdown",
   "id": "8b3e7127-c181-4da3-95cd-09a881e96009",
   "metadata": {},
   "source": [
    "Principal"
   ]
  },
  {
   "cell_type": "code",
   "execution_count": 9,
   "id": "8c5418e3-e113-43a3-921e-d76a47eefba1",
   "metadata": {},
   "outputs": [
    {
     "name": "stdout",
     "output_type": "stream",
     "text": [
      "El resultado de la operación es: 125 \n"
     ]
    }
   ],
   "source": [
    "a=operacion(5,ecubo)\n",
    "print(f'El resultado de la operación es: {a} ')"
   ]
  },
  {
   "cell_type": "code",
   "execution_count": 10,
   "id": "afe76ee1-c498-440c-bb58-f67629c947f9",
   "metadata": {},
   "outputs": [
    {
     "name": "stdout",
     "output_type": "stream",
     "text": [
      "El resultado de la operación es: 2.8284271247461903 \n"
     ]
    }
   ],
   "source": [
    "a=operacion(8,raiz)\n",
    "print(f'El resultado de la operación es: {a} ')"
   ]
  },
  {
   "cell_type": "code",
   "execution_count": null,
   "id": "3a7139f2-4e51-408c-82fc-31fb01c016fe",
   "metadata": {},
   "outputs": [],
   "source": []
  }
 ],
 "metadata": {
  "kernelspec": {
   "display_name": "Python 3 (ipykernel)",
   "language": "python",
   "name": "python3"
  },
  "language_info": {
   "codemirror_mode": {
    "name": "ipython",
    "version": 3
   },
   "file_extension": ".py",
   "mimetype": "text/x-python",
   "name": "python",
   "nbconvert_exporter": "python",
   "pygments_lexer": "ipython3",
   "version": "3.12.4"
  }
 },
 "nbformat": 4,
 "nbformat_minor": 5
}
