{
 "cells": [
  {
   "cell_type": "code",
   "execution_count": 5,
   "id": "4c5607f9-819d-47cb-928b-d1e1e714d94e",
   "metadata": {},
   "outputs": [],
   "source": [
    "def saludo (nombre):\n",
    "    print(f'Hola {nombre} esta es una prueba en jupyter notebook')\n",
    "    \n",
    "\n"
   ]
  },
  {
   "cell_type": "code",
   "execution_count": 6,
   "id": "0fdeb025-cd85-458a-8983-b445f1cb7e08",
   "metadata": {},
   "outputs": [
    {
     "name": "stdout",
     "output_type": "stream",
     "text": [
      "Hola Gary José esta es una prueba en jupyter notebook\n"
     ]
    }
   ],
   "source": [
    "saludo('Gary José')"
   ]
  },
  {
   "cell_type": "code",
   "execution_count": 7,
   "id": "d27382b9-19f4-4d8a-bbb7-0a3d10a268ad",
   "metadata": {},
   "outputs": [
    {
     "name": "stdout",
     "output_type": "stream",
     "text": [
      "Hola Susana Margarita esta es una prueba en jupyter notebook\n"
     ]
    }
   ],
   "source": [
    "saludo('Susana Margarita')"
   ]
  },
  {
   "cell_type": "code",
   "execution_count": 8,
   "id": "28252632-2661-4b1a-b714-92e3680cbfca",
   "metadata": {},
   "outputs": [
    {
     "name": "stdout",
     "output_type": "stream",
     "text": [
      "total 36K\n",
      "drwxr-xr-x 4 garymontes garymontes 4.0K Sep 13 09:18  .\n",
      "drwxr-xr-x 3 garymontes garymontes 4.0K Sep 12 12:14  ..\n",
      "drwxr-xr-x 8 garymontes garymontes 4.0K Sep 13 09:17  .git\n",
      "drwxr-xr-x 2 garymontes garymontes 4.0K Sep 13 09:12  .ipynb_checkpoints\n",
      "-rw-r--r-- 1 garymontes garymontes 2.2K Sep 12 12:32  README.md\n",
      "-rw-r--r-- 1 garymontes garymontes 1.8K Sep 12 15:31 'Reconociendo Jupyter.ipynb'\n",
      "-rw-r--r-- 1 garymontes garymontes  197 Sep 13 09:11  funciones.py\n",
      "-rw-r--r-- 1 garymontes garymontes  604 Sep 12 12:32  operAritmeticas.py\n",
      "-rw-r--r-- 1 garymontes garymontes 1.6K Sep 13 09:18  saludo.ipynb\n"
     ]
    }
   ],
   "source": [
    "!ls -alh"
   ]
  },
  {
   "cell_type": "code",
   "execution_count": 12,
   "id": "3d0ffe00-dce8-4dcc-850b-6ad777cbf385",
   "metadata": {},
   "outputs": [],
   "source": [
    "!cd .ipynb_checkpoints/"
   ]
  },
  {
   "cell_type": "code",
   "execution_count": 14,
   "id": "c9a26720-0d3c-4ba4-8198-3e2de351aed0",
   "metadata": {},
   "outputs": [
    {
     "name": "stdout",
     "output_type": "stream",
     "text": [
      " README.md                     funciones.py         saludo.ipynb\n",
      "'Reconociendo Jupyter.ipynb'   operAritmeticas.py\n"
     ]
    }
   ],
   "source": [
    "ls"
   ]
  },
  {
   "cell_type": "code",
   "execution_count": 15,
   "id": "677860b0-7c78-4a6b-9678-c24861eeda4c",
   "metadata": {},
   "outputs": [
    {
     "name": "stdout",
     "output_type": "stream",
     "text": [
      "/home/garymontes/gary/curso-python/.ipynb_checkpoints\n"
     ]
    }
   ],
   "source": [
    "cd .ipynb_checkpoints/"
   ]
  },
  {
   "cell_type": "code",
   "execution_count": 16,
   "id": "cb397846-8dbb-4519-a990-ff66528b5de3",
   "metadata": {},
   "outputs": [
    {
     "name": "stdout",
     "output_type": "stream",
     "text": [
      "total 20K\n",
      "drwxr-xr-x 2 garymontes garymontes 4.0K Sep 13 09:12  \u001b[0m\u001b[01;34m.\u001b[0m/\n",
      "drwxr-xr-x 4 garymontes garymontes 4.0K Sep 13 09:20  \u001b[01;34m..\u001b[0m/\n",
      "-rw-r--r-- 1 garymontes garymontes 1.8K Sep 12 15:31 'Reconociendo Jupyter-checkpoint.ipynb'\n",
      "-rw-r--r-- 1 garymontes garymontes  197 Sep 13 09:08  funciones-checkpoint.py\n",
      "-rw-r--r-- 1 garymontes garymontes   72 Sep 13 09:12  saludo-checkpoint.ipynb\n"
     ]
    }
   ],
   "source": [
    "ls -alh"
   ]
  },
  {
   "cell_type": "code",
   "execution_count": 17,
   "id": "4eeaad3a-bf67-4e9f-b783-0240a545e8ae",
   "metadata": {},
   "outputs": [
    {
     "name": "stdout",
     "output_type": "stream",
     "text": [
      "/home/garymontes\n"
     ]
    }
   ],
   "source": [
    "cd "
   ]
  },
  {
   "cell_type": "code",
   "execution_count": 18,
   "id": "7f6b6d42-138f-4d81-b7f7-d8440f190f97",
   "metadata": {},
   "outputs": [
    {
     "name": "stdout",
     "output_type": "stream",
     "text": [
      "total 1032076\n",
      "drwxr-xr-x 32 garymontes       4096 Sep 12 17:39 \u001b[0m\u001b[01;34manaconda3\u001b[0m/\n",
      "drwxr-xr-x  3 garymontes       4096 Sep 12 12:14 \u001b[01;34mgary\u001b[0m/\n",
      "-rw-r--r--  1 garymontes 1056829859 Jun 26 15:48 instalador-anaconda.sh\n"
     ]
    }
   ],
   "source": [
    "ll"
   ]
  },
  {
   "cell_type": "code",
   "execution_count": 19,
   "id": "7994b3b1-fe0e-42f9-9d63-c95746e7edf5",
   "metadata": {},
   "outputs": [
    {
     "name": "stdout",
     "output_type": "stream",
     "text": [
      "\u001b[H\u001b[2J"
     ]
    }
   ],
   "source": [
    "clear"
   ]
  },
  {
   "cell_type": "code",
   "execution_count": 32,
   "id": "21081798-1b9d-44e4-b929-056a138a4fdb",
   "metadata": {},
   "outputs": [],
   "source": [
    "def resta(a,b):\n",
    "    return a - b"
   ]
  },
  {
   "cell_type": "code",
   "execution_count": 39,
   "id": "b73f17f3-15db-48f1-8cb2-93e22024211d",
   "metadata": {},
   "outputs": [
    {
     "name": "stdout",
     "output_type": "stream",
     "text": [
      "La resta es: 5\n"
     ]
    }
   ],
   "source": [
    "c=resta(10,5)\n",
    "print(f'La resta es: {c}')"
   ]
  },
  {
   "cell_type": "code",
   "execution_count": null,
   "id": "b2fafbd7-a298-4374-b34c-e649cfbb4492",
   "metadata": {},
   "outputs": [],
   "source": []
  }
 ],
 "metadata": {
  "kernelspec": {
   "display_name": "Python 3 (ipykernel)",
   "language": "python",
   "name": "python3"
  },
  "language_info": {
   "codemirror_mode": {
    "name": "ipython",
    "version": 3
   },
   "file_extension": ".py",
   "mimetype": "text/x-python",
   "name": "python",
   "nbconvert_exporter": "python",
   "pygments_lexer": "ipython3",
   "version": "3.12.4"
  }
 },
 "nbformat": 4,
 "nbformat_minor": 5
}
